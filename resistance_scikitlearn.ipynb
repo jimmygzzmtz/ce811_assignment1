{
 "cells": [
  {
   "cell_type": "code",
   "execution_count": 1,
   "metadata": {},
   "outputs": [],
   "source": [
    "import pandas as pd"
   ]
  },
  {
   "cell_type": "code",
   "execution_count": 2,
   "metadata": {},
   "outputs": [],
   "source": [
    "import seaborn as sns\n",
    "import matplotlib.pyplot as plt\n",
    "from sklearn.ensemble import RandomForestClassifier"
   ]
  },
  {
   "cell_type": "code",
   "execution_count": 3,
   "metadata": {},
   "outputs": [],
   "source": [
    "from sklearn.svm import SVC\n",
    "from sklearn import svm\n",
    "from sklearn.neural_network import MLPClassifier"
   ]
  },
  {
   "cell_type": "code",
   "execution_count": 4,
   "metadata": {},
   "outputs": [],
   "source": [
    "from sklearn.metrics import confusion_matrix, classification_report\n",
    "from sklearn.preprocessing import StandardScaler, LabelEncoder\n",
    "from sklearn.model_selection import train_test_split"
   ]
  },
  {
   "cell_type": "code",
   "execution_count": 5,
   "metadata": {},
   "outputs": [],
   "source": [
    "resistance = pd.read_csv('dataGatheringOutput.csv',sep=',')"
   ]
  },
  {
   "cell_type": "code",
   "execution_count": 6,
   "metadata": {},
   "outputs": [
    {
     "data": {
      "text/html": [
       "<div>\n",
       "<style scoped>\n",
       "    .dataframe tbody tr th:only-of-type {\n",
       "        vertical-align: middle;\n",
       "    }\n",
       "\n",
       "    .dataframe tbody tr th {\n",
       "        vertical-align: top;\n",
       "    }\n",
       "\n",
       "    .dataframe thead th {\n",
       "        text-align: right;\n",
       "    }\n",
       "</style>\n",
       "<table border=\"1\" class=\"dataframe\">\n",
       "  <thead>\n",
       "    <tr style=\"text-align: right;\">\n",
       "      <th></th>\n",
       "      <th>player</th>\n",
       "      <th>sabotagedRatio</th>\n",
       "      <th>notSabotagedRatio</th>\n",
       "      <th>failedRatio</th>\n",
       "      <th>inTeamSabotagedRatio</th>\n",
       "      <th>leaderSabotagedRatio</th>\n",
       "      <th>isSpy</th>\n",
       "    </tr>\n",
       "  </thead>\n",
       "  <tbody>\n",
       "    <tr>\n",
       "      <td>0</td>\n",
       "      <td>0</td>\n",
       "      <td>1.000000</td>\n",
       "      <td>0.0</td>\n",
       "      <td>0.6</td>\n",
       "      <td>0.00</td>\n",
       "      <td>0.0</td>\n",
       "      <td>1</td>\n",
       "    </tr>\n",
       "    <tr>\n",
       "      <td>1</td>\n",
       "      <td>1</td>\n",
       "      <td>0.666667</td>\n",
       "      <td>0.5</td>\n",
       "      <td>0.0</td>\n",
       "      <td>0.50</td>\n",
       "      <td>0.5</td>\n",
       "      <td>0</td>\n",
       "    </tr>\n",
       "    <tr>\n",
       "      <td>2</td>\n",
       "      <td>2</td>\n",
       "      <td>0.666667</td>\n",
       "      <td>1.0</td>\n",
       "      <td>0.4</td>\n",
       "      <td>0.25</td>\n",
       "      <td>-1.0</td>\n",
       "      <td>0</td>\n",
       "    </tr>\n",
       "    <tr>\n",
       "      <td>3</td>\n",
       "      <td>3</td>\n",
       "      <td>0.666667</td>\n",
       "      <td>1.0</td>\n",
       "      <td>0.6</td>\n",
       "      <td>0.00</td>\n",
       "      <td>0.0</td>\n",
       "      <td>1</td>\n",
       "    </tr>\n",
       "    <tr>\n",
       "      <td>4</td>\n",
       "      <td>4</td>\n",
       "      <td>0.000000</td>\n",
       "      <td>1.0</td>\n",
       "      <td>0.0</td>\n",
       "      <td>0.50</td>\n",
       "      <td>1.0</td>\n",
       "      <td>1</td>\n",
       "    </tr>\n",
       "  </tbody>\n",
       "</table>\n",
       "</div>"
      ],
      "text/plain": [
       "   player  sabotagedRatio  notSabotagedRatio  failedRatio  \\\n",
       "0       0        1.000000                0.0          0.6   \n",
       "1       1        0.666667                0.5          0.0   \n",
       "2       2        0.666667                1.0          0.4   \n",
       "3       3        0.666667                1.0          0.6   \n",
       "4       4        0.000000                1.0          0.0   \n",
       "\n",
       "   inTeamSabotagedRatio  leaderSabotagedRatio  isSpy  \n",
       "0                  0.00                   0.0      1  \n",
       "1                  0.50                   0.5      0  \n",
       "2                  0.25                  -1.0      0  \n",
       "3                  0.00                   0.0      1  \n",
       "4                  0.50                   1.0      1  "
      ]
     },
     "execution_count": 6,
     "metadata": {},
     "output_type": "execute_result"
    }
   ],
   "source": [
    "resistance.head()"
   ]
  },
  {
   "cell_type": "code",
   "execution_count": 7,
   "metadata": {},
   "outputs": [
    {
     "data": {
      "text/plain": [
       "player                  0\n",
       "sabotagedRatio          0\n",
       "notSabotagedRatio       0\n",
       "failedRatio             0\n",
       "inTeamSabotagedRatio    0\n",
       "leaderSabotagedRatio    0\n",
       "isSpy                   0\n",
       "dtype: int64"
      ]
     },
     "execution_count": 7,
     "metadata": {},
     "output_type": "execute_result"
    }
   ],
   "source": [
    "resistance.isnull().sum()"
   ]
  },
  {
   "cell_type": "code",
   "execution_count": 8,
   "metadata": {},
   "outputs": [
    {
     "data": {
      "text/plain": [
       "0    878\n",
       "1    574\n",
       "Name: isSpy, dtype: int64"
      ]
     },
     "execution_count": 8,
     "metadata": {},
     "output_type": "execute_result"
    }
   ],
   "source": [
    "resistance['isSpy'].value_counts()"
   ]
  },
  {
   "cell_type": "code",
   "execution_count": 9,
   "metadata": {},
   "outputs": [
    {
     "data": {
      "text/plain": [
       "<matplotlib.axes._subplots.AxesSubplot at 0x2715b9e1ac8>"
      ]
     },
     "execution_count": 9,
     "metadata": {},
     "output_type": "execute_result"
    },
    {
     "data": {
      "image/png": "[encoded data removed]",
      "text/plain": [
       "<Figure size 432x288 with 1 Axes>"
      ]
     },
     "metadata": {
      "needs_background": "light"
     },
     "output_type": "display_data"
    }
   ],
   "source": [
    "sns.countplot(resistance['isSpy'])"
   ]
  },
  {
   "cell_type": "code",
   "execution_count": 10,
   "metadata": {},
   "outputs": [],
   "source": [
    "X = resistance.drop('isSpy', axis=1)\n",
    "y = resistance['isSpy']"
   ]
  },
  {
   "cell_type": "code",
   "execution_count": 11,
   "metadata": {},
   "outputs": [],
   "source": [
    "X_train, X_test, y_train, y_test = train_test_split(X, y, test_size = 0.2, random_state = 93)"
   ]
  },
  {
   "cell_type": "code",
   "execution_count": 12,
   "metadata": {},
   "outputs": [],
   "source": [
    "sc = StandardScaler()\n",
    "X_train = sc.fit_transform(X_train)\n",
    "X_test = sc.transform(X_test)"
   ]
  },
  {
   "cell_type": "code",
   "execution_count": 13,
   "metadata": {},
   "outputs": [
    {
     "data": {
      "text/plain": [
       "array([[ 0.43263576,  0.70317012,  0.8731006 , -1.20592504, -2.24293194,\n",
       "        -1.20968645],\n",
       "       [-1.27389919, -0.46100886,  0.8731006 , -1.20592504,  0.27554673,\n",
       "         1.43314742],\n",
       "       [-1.55832168, -2.78936683,  0.8731006 , -1.20592504,  1.53478606,\n",
       "         1.43314742],\n",
       "       [-0.7050542 ,  0.70317012,  0.8731006 ,  0.12691279,  0.27554673,\n",
       "         0.11173049],\n",
       "       [ 1.28590324, -0.16996412,  0.8731006 , -1.20592504,  0.59035656,\n",
       "         0.11173049],\n",
       "       [ 1.57032573,  0.12108063, -0.31294051,  1.12654117,  1.53478606,\n",
       "        -1.20968645],\n",
       "       [ 1.57032573,  0.70317012,  0.8731006 ,  0.62672698,  1.53478606,\n",
       "        -1.20968645],\n",
       "       [-1.27389919,  0.70317012, -0.31294051,  0.12691279, -0.35407294,\n",
       "         0.11173049],\n",
       "       [-1.55832168,  0.12108063,  0.8731006 , -1.20592504,  0.59035656,\n",
       "         0.11173049],\n",
       "       [-0.7050542 ,  0.12108063, -1.49898162,  1.45975062, -0.35407294,\n",
       "        -1.20968645]])"
      ]
     },
     "execution_count": 13,
     "metadata": {},
     "output_type": "execute_result"
    }
   ],
   "source": [
    "X_train[:10]"
   ]
  },
  {
   "cell_type": "markdown",
   "metadata": {},
   "source": [
    "# Random Forest Classifier"
   ]
  },
  {
   "cell_type": "code",
   "execution_count": 14,
   "metadata": {},
   "outputs": [],
   "source": [
    "rfc = RandomForestClassifier(n_estimators=600)\n",
    "rfc.fit(X_train, y_train)\n",
    "pred_rfc = rfc.predict(X_test)"
   ]
  },
  {
   "cell_type": "code",
   "execution_count": 15,
   "metadata": {},
   "outputs": [
    {
     "data": {
      "text/plain": [
       "array([[-0.42063171,  0.70317012,  0.47775357,  0.39348036,  1.53478606,\n",
       "         1.43314742],\n",
       "       [-0.7050542 ,  0.12108063,  0.8731006 , -1.20592504, -0.35407294,\n",
       "         0.11173049],\n",
       "       [-1.55832168,  0.70317012,  0.8731006 , -1.20592504,  0.27554673,\n",
       "         1.43314742],\n",
       "       [ 0.43263576,  0.70317012,  0.8731006 ,  1.45975062,  1.53478606,\n",
       "         1.43314742],\n",
       "       [ 1.57032573,  0.70317012, -1.49898162, -1.20592504, -2.24293194,\n",
       "        -1.20968645],\n",
       "       [-1.55832168,  0.70317012, -0.31294051,  0.92661549, -0.35407294,\n",
       "         0.11173049],\n",
       "       [ 1.57032573, -0.46100886, -1.49898162, -1.20592504, -0.35407294,\n",
       "         0.11173049],\n",
       "       [ 1.57032573, -2.78936683,  0.08240653, -1.20592504, -2.24293194,\n",
       "         1.43314742],\n",
       "       [-0.7050542 , -0.46100886,  0.8731006 ,  0.66004792, -0.35407294,\n",
       "         0.11173049],\n",
       "       [-0.13620922, -1.04309835, -0.31294051, -1.20592504, -0.35407294,\n",
       "        -1.20968645],\n",
       "       [-1.27389919, -2.78936683,  0.08240653,  0.12691279,  1.53478606,\n",
       "         1.43314742],\n",
       "       [-1.27389919, -2.78936683,  0.47775357,  0.12691279,  1.53478606,\n",
       "         1.43314742],\n",
       "       [-0.42063171,  0.70317012,  0.28008005,  0.12691279,  0.59035656,\n",
       "         0.77243896],\n",
       "       [-0.7050542 , -0.46100886,  0.8731006 ,  0.12691279,  0.59035656,\n",
       "         0.77243896],\n",
       "       [ 0.71705825, -0.16996412, -1.49898162, -1.20592504, -0.35407294,\n",
       "        -1.20968645],\n",
       "       [ 1.00148075,  0.70317012, -1.49898162,  0.79333171, -0.35407294,\n",
       "         0.11173049],\n",
       "       [ 0.71705825,  0.70317012, -1.49898162,  0.39348036, -0.35407294,\n",
       "         0.11173049],\n",
       "       [-1.55832168,  0.70317012,  0.8731006 ,  1.45975062,  1.53478606,\n",
       "        -1.20968645],\n",
       "       [-1.27389919,  0.12108063,  0.28008005,  0.12691279,  0.59035656,\n",
       "         0.77243896],\n",
       "       [-0.9894767 ,  0.12108063, -0.31294051,  0.12691279, -0.35407294,\n",
       "         0.11173049]])"
      ]
     },
     "execution_count": 15,
     "metadata": {},
     "output_type": "execute_result"
    }
   ],
   "source": [
    "X_test[:20]"
   ]
  },
  {
   "cell_type": "code",
   "execution_count": 16,
   "metadata": {},
   "outputs": [
    {
     "name": "stdout",
     "output_type": "stream",
     "text": [
      "              precision    recall  f1-score   support\n",
      "\n",
      "           0       0.71      0.84      0.77       153\n",
      "           1       0.77      0.62      0.69       138\n",
      "\n",
      "    accuracy                           0.73       291\n",
      "   macro avg       0.74      0.73      0.73       291\n",
      "weighted avg       0.74      0.73      0.73       291\n",
      "\n"
     ]
    }
   ],
   "source": [
    "print(classification_report(y_test, pred_rfc))"
   ]
  },
  {
   "cell_type": "code",
   "execution_count": 17,
   "metadata": {},
   "outputs": [
    {
     "name": "stdout",
     "output_type": "stream",
     "text": [
      "[[128  25]\n",
      " [ 53  85]]\n"
     ]
    }
   ],
   "source": [
    "print(confusion_matrix(y_test, pred_rfc))"
   ]
  },
  {
   "cell_type": "markdown",
   "metadata": {},
   "source": [
    "# SVM Classifier"
   ]
  },
  {
   "cell_type": "code",
   "execution_count": 18,
   "metadata": {},
   "outputs": [],
   "source": [
    "clf = svm.SVC()\n",
    "clf.fit(X_train, y_train)\n",
    "pred_clf = clf.predict(X_test)"
   ]
  },
  {
   "cell_type": "code",
   "execution_count": 19,
   "metadata": {},
   "outputs": [
    {
     "name": "stdout",
     "output_type": "stream",
     "text": [
      "              precision    recall  f1-score   support\n",
      "\n",
      "           0       0.70      0.85      0.77       153\n",
      "           1       0.78      0.60      0.68       138\n",
      "\n",
      "    accuracy                           0.73       291\n",
      "   macro avg       0.74      0.73      0.72       291\n",
      "weighted avg       0.74      0.73      0.73       291\n",
      "\n",
      "[[130  23]\n",
      " [ 55  83]]\n"
     ]
    }
   ],
   "source": [
    "print(classification_report(y_test, pred_clf))\n",
    "print(confusion_matrix(y_test, pred_clf))"
   ]
  },
  {
   "cell_type": "markdown",
   "metadata": {},
   "source": [
    "# Neural Network"
   ]
  },
  {
   "cell_type": "code",
   "execution_count": 20,
   "metadata": {},
   "outputs": [
    {
     "name": "stderr",
     "output_type": "stream",
     "text": [
      "C:\\Users\\overpowered\\Downloads\\winpython\\WPy64-3741\\python-3.7.4.amd64\\lib\\site-packages\\sklearn\\neural_network\\multilayer_perceptron.py:566: ConvergenceWarning: Stochastic Optimizer: Maximum iterations (200) reached and the optimization hasn't converged yet.\n",
      "  % self.max_iter, ConvergenceWarning)\n"
     ]
    }
   ],
   "source": [
    "mlpc = MLPClassifier(hidden_layer_sizes=(5,5,5),max_iter=200)\n",
    "mlpc.fit(X_train, y_train)\n",
    "pred_mlpc = mlpc.predict(X_test)"
   ]
  },
  {
   "cell_type": "code",
   "execution_count": 21,
   "metadata": {},
   "outputs": [
    {
     "name": "stdout",
     "output_type": "stream",
     "text": [
      "              precision    recall  f1-score   support\n",
      "\n",
      "           0       0.67      0.75      0.71       153\n",
      "           1       0.68      0.59      0.64       138\n",
      "\n",
      "    accuracy                           0.68       291\n",
      "   macro avg       0.68      0.67      0.67       291\n",
      "weighted avg       0.68      0.68      0.67       291\n",
      "\n",
      "[[115  38]\n",
      " [ 56  82]]\n"
     ]
    }
   ],
   "source": [
    "print(classification_report(y_test, pred_mlpc))\n",
    "print(confusion_matrix(y_test, pred_mlpc))"
   ]
  },
  {
   "cell_type": "code",
   "execution_count": 22,
   "metadata": {},
   "outputs": [
    {
     "data": {
      "text/plain": [
       "0.7319587628865979"
      ]
     },
     "execution_count": 22,
     "metadata": {},
     "output_type": "execute_result"
    }
   ],
   "source": [
    "from sklearn.metrics import accuracy_score\n",
    "cm = accuracy_score(y_test, pred_rfc)\n",
    "cm"
   ]
  },
  {
   "cell_type": "code",
   "execution_count": 23,
   "metadata": {},
   "outputs": [
    {
     "data": {
      "text/html": [
       "<div>\n",
       "<style scoped>\n",
       "    .dataframe tbody tr th:only-of-type {\n",
       "        vertical-align: middle;\n",
       "    }\n",
       "\n",
       "    .dataframe tbody tr th {\n",
       "        vertical-align: top;\n",
       "    }\n",
       "\n",
       "    .dataframe thead th {\n",
       "        text-align: right;\n",
       "    }\n",
       "</style>\n",
       "<table border=\"1\" class=\"dataframe\">\n",
       "  <thead>\n",
       "    <tr style=\"text-align: right;\">\n",
       "      <th></th>\n",
       "      <th>player</th>\n",
       "      <th>sabotagedRatio</th>\n",
       "      <th>notSabotagedRatio</th>\n",
       "      <th>failedRatio</th>\n",
       "      <th>inTeamSabotagedRatio</th>\n",
       "      <th>leaderSabotagedRatio</th>\n",
       "      <th>isSpy</th>\n",
       "    </tr>\n",
       "  </thead>\n",
       "  <tbody>\n",
       "    <tr>\n",
       "      <td>0</td>\n",
       "      <td>0</td>\n",
       "      <td>1.000000</td>\n",
       "      <td>0.0</td>\n",
       "      <td>0.6</td>\n",
       "      <td>0.000000</td>\n",
       "      <td>0.0</td>\n",
       "      <td>1</td>\n",
       "    </tr>\n",
       "    <tr>\n",
       "      <td>1</td>\n",
       "      <td>1</td>\n",
       "      <td>0.666667</td>\n",
       "      <td>0.5</td>\n",
       "      <td>0.0</td>\n",
       "      <td>0.500000</td>\n",
       "      <td>0.5</td>\n",
       "      <td>0</td>\n",
       "    </tr>\n",
       "    <tr>\n",
       "      <td>2</td>\n",
       "      <td>2</td>\n",
       "      <td>0.666667</td>\n",
       "      <td>1.0</td>\n",
       "      <td>0.4</td>\n",
       "      <td>0.250000</td>\n",
       "      <td>-1.0</td>\n",
       "      <td>0</td>\n",
       "    </tr>\n",
       "    <tr>\n",
       "      <td>3</td>\n",
       "      <td>3</td>\n",
       "      <td>0.666667</td>\n",
       "      <td>1.0</td>\n",
       "      <td>0.6</td>\n",
       "      <td>0.000000</td>\n",
       "      <td>0.0</td>\n",
       "      <td>1</td>\n",
       "    </tr>\n",
       "    <tr>\n",
       "      <td>4</td>\n",
       "      <td>4</td>\n",
       "      <td>0.000000</td>\n",
       "      <td>1.0</td>\n",
       "      <td>0.0</td>\n",
       "      <td>0.500000</td>\n",
       "      <td>1.0</td>\n",
       "      <td>1</td>\n",
       "    </tr>\n",
       "    <tr>\n",
       "      <td>5</td>\n",
       "      <td>5</td>\n",
       "      <td>0.000000</td>\n",
       "      <td>0.0</td>\n",
       "      <td>0.0</td>\n",
       "      <td>-1.000000</td>\n",
       "      <td>-1.0</td>\n",
       "      <td>0</td>\n",
       "    </tr>\n",
       "    <tr>\n",
       "      <td>6</td>\n",
       "      <td>6</td>\n",
       "      <td>1.000000</td>\n",
       "      <td>1.0</td>\n",
       "      <td>1.0</td>\n",
       "      <td>0.000000</td>\n",
       "      <td>-1.0</td>\n",
       "      <td>1</td>\n",
       "    </tr>\n",
       "    <tr>\n",
       "      <td>7</td>\n",
       "      <td>7</td>\n",
       "      <td>1.000000</td>\n",
       "      <td>1.0</td>\n",
       "      <td>1.0</td>\n",
       "      <td>-1.000000</td>\n",
       "      <td>0.0</td>\n",
       "      <td>0</td>\n",
       "    </tr>\n",
       "    <tr>\n",
       "      <td>8</td>\n",
       "      <td>6</td>\n",
       "      <td>1.000000</td>\n",
       "      <td>1.0</td>\n",
       "      <td>-1.0</td>\n",
       "      <td>0.666667</td>\n",
       "      <td>1.0</td>\n",
       "      <td>0</td>\n",
       "    </tr>\n",
       "    <tr>\n",
       "      <td>9</td>\n",
       "      <td>7</td>\n",
       "      <td>1.000000</td>\n",
       "      <td>1.0</td>\n",
       "      <td>-1.0</td>\n",
       "      <td>0.000000</td>\n",
       "      <td>0.0</td>\n",
       "      <td>1</td>\n",
       "    </tr>\n",
       "  </tbody>\n",
       "</table>\n",
       "</div>"
      ],
      "text/plain": [
       "   player  sabotagedRatio  notSabotagedRatio  failedRatio  \\\n",
       "0       0        1.000000                0.0          0.6   \n",
       "1       1        0.666667                0.5          0.0   \n",
       "2       2        0.666667                1.0          0.4   \n",
       "3       3        0.666667                1.0          0.6   \n",
       "4       4        0.000000                1.0          0.0   \n",
       "5       5        0.000000                0.0          0.0   \n",
       "6       6        1.000000                1.0          1.0   \n",
       "7       7        1.000000                1.0          1.0   \n",
       "8       6        1.000000                1.0         -1.0   \n",
       "9       7        1.000000                1.0         -1.0   \n",
       "\n",
       "   inTeamSabotagedRatio  leaderSabotagedRatio  isSpy  \n",
       "0              0.000000                   0.0      1  \n",
       "1              0.500000                   0.5      0  \n",
       "2              0.250000                  -1.0      0  \n",
       "3              0.000000                   0.0      1  \n",
       "4              0.500000                   1.0      1  \n",
       "5             -1.000000                  -1.0      0  \n",
       "6              0.000000                  -1.0      1  \n",
       "7             -1.000000                   0.0      0  \n",
       "8              0.666667                   1.0      0  \n",
       "9              0.000000                   0.0      1  "
      ]
     },
     "execution_count": 23,
     "metadata": {},
     "output_type": "execute_result"
    }
   ],
   "source": [
    "resistance.head(10)"
   ]
  },
  {
   "cell_type": "code",
   "execution_count": 24,
   "metadata": {},
   "outputs": [],
   "source": [
    "Xnew = [[5,0.75,0.5,0.33,0,1]]\n",
    "Xnew = sc.transform(Xnew)"
   ]
  },
  {
   "cell_type": "code",
   "execution_count": 25,
   "metadata": {},
   "outputs": [
    {
     "data": {
      "text/plain": [
       "array([1], dtype=int64)"
      ]
     },
     "execution_count": 25,
     "metadata": {},
     "output_type": "execute_result"
    }
   ],
   "source": [
    "ynew = rfc.predict(Xnew)\n",
    "ynew"
   ]
  },
  {
   "cell_type": "code",
   "execution_count": 26,
   "metadata": {},
   "outputs": [],
   "source": [
    "import pickle\n",
    "pickle_path = 'rfc_pickle.pkl'\n",
    "rfc_pickle = open(pickle_path, 'wb')\n",
    "pickle.dump(rfc, rfc_pickle)\n",
    "rfc_pickle.close()"
   ]
  },
  {
   "cell_type": "code",
   "execution_count": 27,
   "metadata": {},
   "outputs": [],
   "source": [
    "sc_pickle = open('sc_pickle.pkl', 'wb')\n",
    "pickle.dump(sc, sc_pickle)\n",
    "sc_pickle.close()"
   ]
  },
  {
   "cell_type": "code",
   "execution_count": null,
   "metadata": {},
   "outputs": [],
   "source": []
  }
 ],
 "metadata": {
  "kernelspec": {
   "display_name": "Python 3",
   "language": "python",
   "name": "python3"
  },
  "language_info": {
   "codemirror_mode": {
    "name": "ipython",
    "version": 3
   },
   "file_extension": ".py",
   "mimetype": "text/x-python",
   "name": "python",
   "nbconvert_exporter": "python",
   "pygments_lexer": "ipython3",
   "version": "3.7.4"
  }
 },
 "nbformat": 4,
 "nbformat_minor": 2
}
